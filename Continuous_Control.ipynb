{
 "cells": [
  {
   "cell_type": "markdown",
   "metadata": {},
   "source": [
    "# Continuous Control\n",
    "\n",
    "---\n",
    "\n",
    "You are welcome to use this coding environment to train your agent for the project.  Follow the instructions below to get started!\n",
    "\n",
    "### 1. Start the Environment\n",
    "\n",
    "Run the next code cell to install a few packages.  This line will take a few minutes to run!"
   ]
  },
  {
   "cell_type": "code",
   "execution_count": 25,
   "metadata": {},
   "outputs": [],
   "source": [
    "!pip -q install ./python"
   ]
  },
  {
   "cell_type": "markdown",
   "metadata": {},
   "source": [
    "The environments corresponding to both versions of the environment are already saved in the Workspace and can be accessed at the file paths provided below.  \n",
    "\n",
    "Please select one of the two options below for loading the environment."
   ]
  },
  {
   "cell_type": "code",
   "execution_count": 26,
   "metadata": {},
   "outputs": [
    {
     "name": "stderr",
     "output_type": "stream",
     "text": [
      "INFO:unityagents:\n",
      "'Academy' started successfully!\n",
      "Unity Academy name: Academy\n",
      "        Number of Brains: 1\n",
      "        Number of External Brains : 1\n",
      "        Lesson number : 0\n",
      "        Reset Parameters :\n",
      "\t\tgoal_speed -> 1.0\n",
      "\t\tgoal_size -> 5.0\n",
      "Unity brain name: ReacherBrain\n",
      "        Number of Visual Observations (per agent): 0\n",
      "        Vector Observation space type: continuous\n",
      "        Vector Observation space size (per agent): 33\n",
      "        Number of stacked Vector Observation: 1\n",
      "        Vector Action space type: continuous\n",
      "        Vector Action space size (per agent): 4\n",
      "        Vector Action descriptions: , , , \n"
     ]
    }
   ],
   "source": [
    "from unityagents import UnityEnvironment\n",
    "import numpy as np\n",
    "\n",
    "\n",
    "env = UnityEnvironment(file_name='/data/Reacher_Linux_NoVis/Reacher.x86_64')"
   ]
  },
  {
   "cell_type": "markdown",
   "metadata": {},
   "source": [
    "Environments contain **_brains_** which are responsible for deciding the actions of their associated agents. Here we check for the first brain available, and set it as the default brain we will be controlling from Python."
   ]
  },
  {
   "cell_type": "code",
   "execution_count": 27,
   "metadata": {},
   "outputs": [],
   "source": [
    "# get the default brain\n",
    "brain_name = env.brain_names[0]\n",
    "brain = env.brains[brain_name]"
   ]
  },
  {
   "cell_type": "markdown",
   "metadata": {},
   "source": [
    "### 2. Examine the State and Action Spaces\n",
    "\n",
    "Run the code cell below to print some information about the environment."
   ]
  },
  {
   "cell_type": "code",
   "execution_count": 28,
   "metadata": {},
   "outputs": [
    {
     "name": "stdout",
     "output_type": "stream",
     "text": [
      "Number of agents: 20\n",
      "Size of each action: 4\n",
      "There are 20 agents. Each observes a state with length: 33\n",
      "The state for the first agent looks like: [  0.00000000e+00  -4.00000000e+00   0.00000000e+00   1.00000000e+00\n",
      "  -0.00000000e+00  -0.00000000e+00  -4.37113883e-08   0.00000000e+00\n",
      "   0.00000000e+00   0.00000000e+00   0.00000000e+00   0.00000000e+00\n",
      "   0.00000000e+00   0.00000000e+00  -1.00000000e+01   0.00000000e+00\n",
      "   1.00000000e+00  -0.00000000e+00  -0.00000000e+00  -4.37113883e-08\n",
      "   0.00000000e+00   0.00000000e+00   0.00000000e+00   0.00000000e+00\n",
      "   0.00000000e+00   0.00000000e+00   5.75471878e+00  -1.00000000e+00\n",
      "   5.55726624e+00   0.00000000e+00   1.00000000e+00   0.00000000e+00\n",
      "  -1.68164849e-01]\n"
     ]
    }
   ],
   "source": [
    "# reset the environment\n",
    "env_info = env.reset(train_mode=True)[brain_name]\n",
    "\n",
    "# number of agents\n",
    "num_agents = len(env_info.agents)\n",
    "print('Number of agents:', num_agents)\n",
    "\n",
    "# size of each action\n",
    "action_size = brain.vector_action_space_size\n",
    "print('Size of each action:', action_size)\n",
    "\n",
    "# examine the state space \n",
    "states = env_info.vector_observations\n",
    "state_size = states.shape[1]\n",
    "print('There are {} agents. Each observes a state with length: {}'.format(states.shape[0], state_size))\n",
    "print('The state for the first agent looks like:', states[0])"
   ]
  },
  {
   "cell_type": "markdown",
   "metadata": {},
   "source": [
    "### 4. It's Your Turn!\n",
    "\n",
    "Now it's your turn to train your own agent to solve the environment!  A few **important notes**:\n",
    "- When training the environment, set `train_mode=True`, so that the line for resetting the environment looks like the following:\n",
    "```python\n",
    "env_info = env.reset(train_mode=True)[brain_name]\n",
    "```\n",
    "- To structure your work, you're welcome to work directly in this Jupyter notebook, or you might like to start over with a new file!  You can see the list of files in the workspace by clicking on **_Jupyter_** in the top left corner of the notebook.\n",
    "- In this coding environment, you will not be able to watch the agents while they are training.  However, **_after training the agents_**, you can download the saved model weights to watch the agents on your own machine! "
   ]
  },
  {
   "cell_type": "code",
   "execution_count": 29,
   "metadata": {},
   "outputs": [],
   "source": [
    "from ddpg_agent import Agent\n",
    "from collections import deque\n",
    "import torch\n",
    "import matplotlib.pyplot as plt\n",
    "%matplotlib inline"
   ]
  },
  {
   "cell_type": "code",
   "execution_count": 30,
   "metadata": {},
   "outputs": [
    {
     "name": "stdout",
     "output_type": "stream",
     "text": [
      "cuda:0\n"
     ]
    }
   ],
   "source": [
    "agent = Agent(state_size, action_size, epsilon=0.98)"
   ]
  },
  {
   "cell_type": "code",
   "execution_count": 31,
   "metadata": {},
   "outputs": [
    {
     "data": {
      "text/plain": [
       "(Actor(\n",
       "   (fc1): Linear(in_features=33, out_features=400, bias=True)\n",
       "   (n1): BatchNorm1d(400, eps=1e-05, momentum=0.1, affine=True, track_running_stats=True)\n",
       "   (fc2): Linear(in_features=400, out_features=300, bias=True)\n",
       "   (fc3): Linear(in_features=300, out_features=4, bias=True)\n",
       " ), Adam (\n",
       " Parameter Group 0\n",
       "     amsgrad: False\n",
       "     betas: (0.9, 0.999)\n",
       "     eps: 1e-08\n",
       "     lr: 0.001\n",
       "     weight_decay: 0\n",
       " ))"
      ]
     },
     "execution_count": 31,
     "metadata": {},
     "output_type": "execute_result"
    }
   ],
   "source": [
    "agent.actor_local, agent.actor_optimizer"
   ]
  },
  {
   "cell_type": "code",
   "execution_count": 32,
   "metadata": {},
   "outputs": [
    {
     "data": {
      "text/plain": [
       "(Critic(\n",
       "   (fcs1): Linear(in_features=33, out_features=400, bias=True)\n",
       "   (n1): BatchNorm1d(400, eps=1e-05, momentum=0.1, affine=True, track_running_stats=True)\n",
       "   (fc2): Linear(in_features=404, out_features=300, bias=True)\n",
       "   (fc3): Linear(in_features=300, out_features=1, bias=True)\n",
       " ), Adam (\n",
       " Parameter Group 0\n",
       "     amsgrad: False\n",
       "     betas: (0.9, 0.999)\n",
       "     eps: 1e-08\n",
       "     lr: 0.001\n",
       "     weight_decay: 0\n",
       " ))"
      ]
     },
     "execution_count": 32,
     "metadata": {},
     "output_type": "execute_result"
    }
   ],
   "source": [
    "agent.critic_local, agent.critic_optimizer"
   ]
  },
  {
   "cell_type": "code",
   "execution_count": 33,
   "metadata": {},
   "outputs": [],
   "source": [
    "agent.critic_local.load_state_dict(torch.load(\"checkpoint_critic.pth\"))\n",
    "agent.actor_local.load_state_dict(torch.load(\"checkpoint_actor.pth\"))"
   ]
  },
  {
   "cell_type": "code",
   "execution_count": 34,
   "metadata": {},
   "outputs": [],
   "source": [
    "def ddpg(n_episodes=1000, max_episode=1000, print_every=2, n_start=0):\n",
    "    scores = []\n",
    "    scores_deque = deque(maxlen=100)\n",
    "    epsilon_decay = 1e-7 \n",
    "    if n_start>0:\n",
    "        print(\"restarting from previous training. Agent loaded previously\")\n",
    "    for i_episode in range(n_start, n_episodes):\n",
    "        env_info = env.reset(train_mode=True)[brain_name]     \n",
    "        states = env_info.vector_observations   \n",
    "        score = np.zeros(num_agents)\n",
    "        agent.reset()\n",
    "        for t in range(1, max_episode+1):\n",
    "            #Act on emnvironment\n",
    "            actions = agent.act(states) \n",
    "            env_info = env.step(actions)[brain_name]           \n",
    "            next_states = env_info.vector_observations         \n",
    "            rewards = env_info.rewards                         \n",
    "            dones = env_info.local_done\n",
    "\n",
    "            #Learn from Agent\n",
    "            for state, action, reward, next_state, done in zip(states, actions, rewards, next_states, dones):\n",
    "                agent.step(state, action, reward, next_state, done, t, epsilon_decay)  \n",
    "\n",
    "            #Get scores\n",
    "            score += rewards                         \n",
    "            states = next_states                               \n",
    "            if np.any(dones):\n",
    "                print(\"Game Done!\")\n",
    "                break\n",
    "                \n",
    "        \n",
    "        scores_deque.append(np.mean(score))\n",
    "        scores.append(np.mean(score))\n",
    "        \n",
    "\n",
    "        if i_episode % print_every == 0:\n",
    "            print('\\rEpisode {}\\tMax Score Last: {:.2f} \\tAverage Score Last: {:.2f} \\tAverage Last 100: {:.2f}'.format(i_episode,\n",
    "                                                                                           np.max(score),\n",
    "                                                                                           np.mean(score),\n",
    "                                                                                           np.mean(scores_deque)),end=\"\")\n",
    "            if i_episode % 10 == 0: \n",
    "                print('\\nCurrent Epsilon: {:.4f}'.format(agent.epsilon))\n",
    "                torch.save(agent.actor_local.state_dict(), 'checkpoint_actor.pth')\n",
    "                torch.save(agent.critic_local.state_dict(), 'checkpoint_critic.pth')\n",
    "\n",
    "        if np.mean(scores_deque)>30:\n",
    "            print('\\rProblem at Episode {}\\tAverage Score: {:.2f}'.format(i_episode, np.mean(scores_deque)))\n",
    "            torch.save(agent.actor_local.state_dict(), 'checkpoint_actor_best.pth')\n",
    "            torch.save(agent.critic_local.state_dict(), 'checkpoint_critic_best.pth')\n",
    "            break\n",
    "\n",
    "    torch.save(agent.actor_local.state_dict(), 'checkpoint_actor.pth')\n",
    "    torch.save(agent.critic_local.state_dict(), 'checkpoint_critic.pth')\n",
    "\n",
    "    return scores"
   ]
  },
  {
   "cell_type": "markdown",
   "metadata": {},
   "source": [
    "## Previous Training Episode 0 to 20\n",
    "\n",
    "Episode 0\tMax Score Last: 1.81 \tAverage Score Last: 0.75 \tAverage Last 100: 0.75\n",
    "\n",
    "Current Epsilon: 0.9990\n",
    "\n",
    "Episode 10\tMax Score Last: 14.67 \tAverage Score Last: 4.74 \tAverage Last 100: 2.89\n",
    "\n",
    "Current Epsilon: 0.9890\n",
    "\n",
    "Episode 20\tMax Score Last: 24.73 \tAverage Score Last: 10.67 \tAverage Last 100: 5.05\n",
    "\n",
    "Current Epsilon: 0.9790"
   ]
  },
  {
   "cell_type": "code",
   "execution_count": 35,
   "metadata": {},
   "outputs": [
    {
     "name": "stdout",
     "output_type": "stream",
     "text": [
      "restarting from previous training. Agent loaded previously\n",
      "Episode 30\tMax Score Last: 6.65 \tAverage Score Last: 3.17 \tAverage Last 100: 3.366\n",
      "Current Epsilon: 0.9700\n",
      "Episode 40\tMax Score Last: 8.93 \tAverage Score Last: 5.95 \tAverage Last 100: 4.351\n",
      "Current Epsilon: 0.9600\n",
      "Episode 50\tMax Score Last: 14.26 \tAverage Score Last: 7.77 \tAverage Last 100: 5.51\n",
      "Current Epsilon: 0.9500\n",
      "Episode 60\tMax Score Last: 14.88 \tAverage Score Last: 10.81 \tAverage Last 100: 6.50\n",
      "Current Epsilon: 0.9400\n",
      "Episode 70\tMax Score Last: 17.09 \tAverage Score Last: 11.93 \tAverage Last 100: 7.45\n",
      "Current Epsilon: 0.9300\n",
      "Episode 80\tMax Score Last: 25.78 \tAverage Score Last: 16.69 \tAverage Last 100: 8.52\n",
      "Current Epsilon: 0.9200\n",
      "Episode 90\tMax Score Last: 26.03 \tAverage Score Last: 20.47 \tAverage Last 100: 9.86\n",
      "Current Epsilon: 0.9100\n",
      "Episode 100\tMax Score Last: 26.47 \tAverage Score Last: 21.91 \tAverage Last 100: 11.28\n",
      "Current Epsilon: 0.9000\n",
      "Episode 110\tMax Score Last: 31.59 \tAverage Score Last: 28.18 \tAverage Last 100: 12.86\n",
      "Current Epsilon: 0.8900\n",
      "Episode 120\tMax Score Last: 36.86 \tAverage Score Last: 33.46 \tAverage Last 100: 14.88\n",
      "Current Epsilon: 0.8800\n",
      "Episode 130\tMax Score Last: 39.43 \tAverage Score Last: 38.16 \tAverage Last 100: 18.18\n",
      "Current Epsilon: 0.8700\n",
      "Episode 140\tMax Score Last: 39.50 \tAverage Score Last: 38.52 \tAverage Last 100: 21.48\n",
      "Current Epsilon: 0.8600\n",
      "Episode 150\tMax Score Last: 39.62 \tAverage Score Last: 39.11 \tAverage Last 100: 24.60\n",
      "Current Epsilon: 0.8500\n",
      "Episode 160\tMax Score Last: 39.19 \tAverage Score Last: 37.42 \tAverage Last 100: 27.47\n",
      "Current Epsilon: 0.8400\n",
      "Episode 170\tMax Score Last: 38.52 \tAverage Score Last: 36.58 \tAverage Last 100: 30.05\n",
      "Current Epsilon: 0.8300\n",
      "Problem at Episode 170\tAverage Score: 30.05\n"
     ]
    }
   ],
   "source": [
    "scores = ddpg(n_start=21)"
   ]
  },
  {
   "cell_type": "code",
   "execution_count": 37,
   "metadata": {},
   "outputs": [
    {
     "name": "stdout",
     "output_type": "stream",
     "text": [
      "0\n"
     ]
    }
   ],
   "source": [
    "print(0)"
   ]
  },
  {
   "cell_type": "code",
   "execution_count": 38,
   "metadata": {},
   "outputs": [
    {
     "data": {
      "image/png": "[encoded data removed]",
      "text/plain": [
       "<matplotlib.figure.Figure at 0x7f1c57416358>"
      ]
     },
     "metadata": {
      "needs_background": "light"
     },
     "output_type": "display_data"
    }
   ],
   "source": [
    "plt.plot(np.arange(21, len(scores)+21), scores)\n",
    "plt.title('Score per Episode')\n",
    "plt.ylabel('Score')\n",
    "plt.xlabel('Episode')\n",
    "plt.show()"
   ]
  }
 ],
 "metadata": {
  "kernelspec": {
   "display_name": "Python 3",
   "language": "python",
   "name": "python3"
  },
  "language_info": {
   "codemirror_mode": {
    "name": "ipython",
    "version": 3
   },
   "file_extension": ".py",
   "mimetype": "text/x-python",
   "name": "python",
   "nbconvert_exporter": "python",
   "pygments_lexer": "ipython3",
   "version": "3.6.13"
  }
 },
 "nbformat": 4,
 "nbformat_minor": 2
}
